{
 "cells": [
  {
   "cell_type": "markdown",
   "metadata": {},
   "source": [
    "# Stock Trades by Members of the US House of Representatives"
   ]
  },
  {
   "cell_type": "markdown",
   "metadata": {},
   "source": [
    "## Problem: Can we predict what type of trade the transaction is?\n",
    "- This is a Classification problem\n",
    "- It will be evaluated using f1-score"
   ]
  },
  {
   "cell_type": "markdown",
   "metadata": {},
   "source": [
    "# Summary of Findings\n",
    "\n",
    "\n",
    "### Introduction\n",
    "The goal here is to predict what type of trade the transaction is (purchase, sale_full, sale_partial, or exchange). Since we're trying to predict a categorical variable, this is a ***CLASSIFICATION*** problem. By extension of the problem being posed, the target variable is 'type.' As for the evaluation metric being used, I chose f1-score, this is because it is a good choice when one has class-imbalanced data, unlike Accuracy which is weak when there are rare events. In this case, the majority of stocks were purchases, thus, the Accuracy metric would not have been the best choice, and f1-score is a good trade-off between percision and recall.  \n",
    "\n",
    "### Baseline Model\n",
    "The Baseline Model used 4 features. Since this data set is entirely categorical, all features were categorical. 'amount' was ordinal, and 'owner', 'ticker', and 'disclosure_year' were nominal. Thus, amount was ordinally encoded while the rest were one-hot-encoded. The f1-score was ~66%. This is pretty low, a possible reason for that is the choice of features. It is likely that had I used a more consistent set of features, the evaluation metric could've been higher. \n",
    "\n",
    "### Final Model\n",
    "I added a feature for the state where the representative represents (engineered from distric column) and the transaction year and month (engineered from transaction_date column). State is useful because there might be a trend in which rep.s from certain states are more likely to BUY vs SELL. And extracting month/year was because having a date column isn't that useful since we don't have any groups. Extracting year for example, gives us bigger picture data granularity that can be analyzed for more trends. The method for model selection was GridSearch. Best parameter was depth of 202. \n",
    "\n",
    "### Fairness Evaluation\n",
    "With a pvalue of 0.8, I ***fail to reject*** the null hypothesis that the model had equal accuracy for transactions made in 2020 and 2021. The alternnative hypothesis was that the model performed better for transacrion in 2020, but evidence did not support this. I used accuracy as my parity because it is meant to test whether proportions of correctly classified predictions should be equal across groups, which matches with my fairness test. "
   ]
  },
  {
   "cell_type": "markdown",
   "metadata": {},
   "source": [
    "# Code"
   ]
  },
  {
   "cell_type": "code",
   "execution_count": 145,
   "metadata": {},
   "outputs": [],
   "source": [
    "import matplotlib.pyplot as plt\n",
    "import numpy as np\n",
    "import os\n",
    "import pandas as pd\n",
    "import seaborn as sns\n",
    "\n",
    "from sklearn.preprocessing import Binarizer\n",
    "from sklearn.preprocessing import OneHotEncoder\n",
    "from sklearn.linear_model import LinearRegression\n",
    "from sklearn.pipeline import Pipeline\n",
    "from sklearn.preprocessing import OrdinalEncoder\n",
    "from sklearn.compose import ColumnTransformer\n",
    "from sklearn.tree import DecisionTreeClassifier\n",
    "from sklearn.model_selection import train_test_split\n",
    "from sklearn import metrics\n",
    "from sklearn.model_selection import GridSearchCV\n",
    "\n",
    "%matplotlib inline\n",
    "%config InlineBackend.figure_format = 'retina'  # Higher resolution figures"
   ]
  },
  {
   "cell_type": "code",
   "execution_count": 135,
   "metadata": {
    "scrolled": true
   },
   "outputs": [
    {
     "data": {
      "text/html": [
       "<div>\n",
       "<style scoped>\n",
       "    .dataframe tbody tr th:only-of-type {\n",
       "        vertical-align: middle;\n",
       "    }\n",
       "\n",
       "    .dataframe tbody tr th {\n",
       "        vertical-align: top;\n",
       "    }\n",
       "\n",
       "    .dataframe thead th {\n",
       "        text-align: right;\n",
       "    }\n",
       "</style>\n",
       "<table border=\"1\" class=\"dataframe\">\n",
       "  <thead>\n",
       "    <tr style=\"text-align: right;\">\n",
       "      <th></th>\n",
       "      <th>disclosure_year</th>\n",
       "      <th>disclosure_date</th>\n",
       "      <th>transaction_date</th>\n",
       "      <th>owner</th>\n",
       "      <th>ticker</th>\n",
       "      <th>asset_description</th>\n",
       "      <th>type</th>\n",
       "      <th>amount</th>\n",
       "      <th>representative</th>\n",
       "      <th>district</th>\n",
       "      <th>ptr_link</th>\n",
       "      <th>cap_gains_over_200_usd</th>\n",
       "    </tr>\n",
       "  </thead>\n",
       "  <tbody>\n",
       "    <tr>\n",
       "      <th>0</th>\n",
       "      <td>2021</td>\n",
       "      <td>10/04/2021</td>\n",
       "      <td>2021-09-27</td>\n",
       "      <td>joint</td>\n",
       "      <td>BP</td>\n",
       "      <td>BP plc</td>\n",
       "      <td>purchase</td>\n",
       "      <td>$1,001 - $15,000</td>\n",
       "      <td>Hon. Virginia Foxx</td>\n",
       "      <td>NC05</td>\n",
       "      <td>https://disclosures-clerk.house.gov/public_dis...</td>\n",
       "      <td>False</td>\n",
       "    </tr>\n",
       "    <tr>\n",
       "      <th>1</th>\n",
       "      <td>2021</td>\n",
       "      <td>10/04/2021</td>\n",
       "      <td>2021-09-13</td>\n",
       "      <td>joint</td>\n",
       "      <td>XOM</td>\n",
       "      <td>Exxon Mobil Corporation</td>\n",
       "      <td>purchase</td>\n",
       "      <td>$1,001 - $15,000</td>\n",
       "      <td>Hon. Virginia Foxx</td>\n",
       "      <td>NC05</td>\n",
       "      <td>https://disclosures-clerk.house.gov/public_dis...</td>\n",
       "      <td>False</td>\n",
       "    </tr>\n",
       "    <tr>\n",
       "      <th>2</th>\n",
       "      <td>2021</td>\n",
       "      <td>10/04/2021</td>\n",
       "      <td>2021-09-10</td>\n",
       "      <td>joint</td>\n",
       "      <td>ILPT</td>\n",
       "      <td>Industrial Logistics Properties Trust - Common...</td>\n",
       "      <td>purchase</td>\n",
       "      <td>$15,001 - $50,000</td>\n",
       "      <td>Hon. Virginia Foxx</td>\n",
       "      <td>NC05</td>\n",
       "      <td>https://disclosures-clerk.house.gov/public_dis...</td>\n",
       "      <td>False</td>\n",
       "    </tr>\n",
       "    <tr>\n",
       "      <th>3</th>\n",
       "      <td>2021</td>\n",
       "      <td>10/04/2021</td>\n",
       "      <td>2021-09-28</td>\n",
       "      <td>joint</td>\n",
       "      <td>PM</td>\n",
       "      <td>Phillip Morris International Inc</td>\n",
       "      <td>purchase</td>\n",
       "      <td>$15,001 - $50,000</td>\n",
       "      <td>Hon. Virginia Foxx</td>\n",
       "      <td>NC05</td>\n",
       "      <td>https://disclosures-clerk.house.gov/public_dis...</td>\n",
       "      <td>False</td>\n",
       "    </tr>\n",
       "    <tr>\n",
       "      <th>4</th>\n",
       "      <td>2021</td>\n",
       "      <td>10/04/2021</td>\n",
       "      <td>2021-09-17</td>\n",
       "      <td>self</td>\n",
       "      <td>BLK</td>\n",
       "      <td>BlackRock Inc</td>\n",
       "      <td>sale_partial</td>\n",
       "      <td>$1,001 - $15,000</td>\n",
       "      <td>Hon. Alan S. Lowenthal</td>\n",
       "      <td>CA47</td>\n",
       "      <td>https://disclosures-clerk.house.gov/public_dis...</td>\n",
       "      <td>False</td>\n",
       "    </tr>\n",
       "  </tbody>\n",
       "</table>\n",
       "</div>"
      ],
      "text/plain": [
       "   disclosure_year disclosure_date transaction_date  owner ticker  \\\n",
       "0             2021      10/04/2021       2021-09-27  joint     BP   \n",
       "1             2021      10/04/2021       2021-09-13  joint    XOM   \n",
       "2             2021      10/04/2021       2021-09-10  joint   ILPT   \n",
       "3             2021      10/04/2021       2021-09-28  joint     PM   \n",
       "4             2021      10/04/2021       2021-09-17   self    BLK   \n",
       "\n",
       "                                   asset_description          type  \\\n",
       "0                                             BP plc      purchase   \n",
       "1                            Exxon Mobil Corporation      purchase   \n",
       "2  Industrial Logistics Properties Trust - Common...      purchase   \n",
       "3                   Phillip Morris International Inc      purchase   \n",
       "4                                      BlackRock Inc  sale_partial   \n",
       "\n",
       "              amount          representative district  \\\n",
       "0   $1,001 - $15,000      Hon. Virginia Foxx     NC05   \n",
       "1   $1,001 - $15,000      Hon. Virginia Foxx     NC05   \n",
       "2  $15,001 - $50,000      Hon. Virginia Foxx     NC05   \n",
       "3  $15,001 - $50,000      Hon. Virginia Foxx     NC05   \n",
       "4   $1,001 - $15,000  Hon. Alan S. Lowenthal     CA47   \n",
       "\n",
       "                                            ptr_link  cap_gains_over_200_usd  \n",
       "0  https://disclosures-clerk.house.gov/public_dis...                   False  \n",
       "1  https://disclosures-clerk.house.gov/public_dis...                   False  \n",
       "2  https://disclosures-clerk.house.gov/public_dis...                   False  \n",
       "3  https://disclosures-clerk.house.gov/public_dis...                   False  \n",
       "4  https://disclosures-clerk.house.gov/public_dis...                   False  "
      ]
     },
     "execution_count": 135,
     "metadata": {},
     "output_type": "execute_result"
    }
   ],
   "source": [
    "df = pd.read_csv('all_transactions.csv')\n",
    "df.head()"
   ]
  },
  {
   "cell_type": "markdown",
   "metadata": {},
   "source": [
    "### Cleaning"
   ]
  },
  {
   "cell_type": "code",
   "execution_count": 137,
   "metadata": {},
   "outputs": [],
   "source": [
    "def convert_to_null(cell):\n",
    "    if cell == '--':\n",
    "        return np.nan\n",
    "    else:\n",
    "        return cell\n",
    "\n",
    "# loop through columns that are str and apply helper function\n",
    "for column in df.columns:\n",
    "    if df[column].dtype == object:\n",
    "        df[column] = df[column].apply(convert_to_null)"
   ]
  },
  {
   "cell_type": "code",
   "execution_count": 138,
   "metadata": {},
   "outputs": [],
   "source": [
    "# Clean and restructure binning for ordinal encoding\n",
    "data = df.copy()\n",
    "data.replace(to_replace='$1,001 -', value='$1,001 - $15,000', inplace=True)\n",
    "data.replace(to_replace='$1,000 - $15,000', value='$1,001 - $15,000', inplace=True)\n",
    "data.replace(to_replace='$1,000,000 +', value='$1,000,001 - $5,000,000', inplace=True)\n",
    "data.replace(to_replace='$15,000 - $50,000', value='$15,001 - $50,000', inplace=True)"
   ]
  },
  {
   "cell_type": "markdown",
   "metadata": {},
   "source": [
    "### Baseline Model"
   ]
  },
  {
   "cell_type": "code",
   "execution_count": 139,
   "metadata": {
    "scrolled": true
   },
   "outputs": [
    {
     "data": {
      "text/plain": [
       "array(['purchase', 'purchase', 'sale_partial', ..., 'purchase',\n",
       "       'sale_full', 'sale_full'], dtype=object)"
      ]
     },
     "execution_count": 139,
     "metadata": {},
     "output_type": "execute_result"
    }
   ],
   "source": [
    "# split target feature from training features\n",
    "X = data.drop('type', axis=1)\n",
    "# X = data[['owner', 'ticker', 'amount']]\n",
    "y = data.type\n",
    "\n",
    "# split data set intro training vs test\n",
    "X_train, X_test, y_train, y_test = train_test_split(X, y, test_size=0.3) # 70% training and 30% test\n",
    "\n",
    "# ordinal encoding\n",
    "enc = Pipeline(steps=[('ordinal', OrdinalEncoder())])\n",
    "\n",
    "# nominal encoding\n",
    "ohe = Pipeline(steps=[('onehot', OneHotEncoder(handle_unknown='ignore'))])\n",
    "\n",
    "\n",
    "# preprocessor\n",
    "preproc = ColumnTransformer(\n",
    "    transformers = [\n",
    "        ('owner_ohe', ohe, ['owner']),\n",
    "        ('ticker_ohe', ohe, ['ticker']),\n",
    "        ('disclosure_ohe', ohe, ['disclosure_year']),\n",
    "        ('amount_enc', enc, ['amount'])\n",
    "    ])\n",
    "\n",
    "pl = Pipeline(steps=[('preprocessor', preproc), ('classifier', DecisionTreeClassifier())])\n",
    "\n",
    "pl.fit(X_train, y_train)\n",
    "preds = pl.predict(X_test)\n",
    "preds"
   ]
  },
  {
   "cell_type": "markdown",
   "metadata": {},
   "source": [
    "#### Evaluation of Baseline Model"
   ]
  },
  {
   "cell_type": "code",
   "execution_count": 140,
   "metadata": {},
   "outputs": [
    {
     "data": {
      "text/plain": [
       "0.5182883290793954"
      ]
     },
     "execution_count": 140,
     "metadata": {},
     "output_type": "execute_result"
    }
   ],
   "source": [
    "recall = metrics.recall_score(y_test, preds, average='weighted')\n",
    "precision = metrics.precision_score(y_test, preds, average='weighted')\n",
    "\n",
    "f1 = 2 * ((precision * recall)/(precision + recall))\n",
    "f1"
   ]
  },
  {
   "cell_type": "markdown",
   "metadata": {},
   "source": [
    "### Final Model"
   ]
  },
  {
   "cell_type": "code",
   "execution_count": 141,
   "metadata": {
    "scrolled": false
   },
   "outputs": [
    {
     "data": {
      "text/html": [
       "<div>\n",
       "<style scoped>\n",
       "    .dataframe tbody tr th:only-of-type {\n",
       "        vertical-align: middle;\n",
       "    }\n",
       "\n",
       "    .dataframe tbody tr th {\n",
       "        vertical-align: top;\n",
       "    }\n",
       "\n",
       "    .dataframe thead th {\n",
       "        text-align: right;\n",
       "    }\n",
       "</style>\n",
       "<table border=\"1\" class=\"dataframe\">\n",
       "  <thead>\n",
       "    <tr style=\"text-align: right;\">\n",
       "      <th></th>\n",
       "      <th>disclosure_year</th>\n",
       "      <th>disclosure_date</th>\n",
       "      <th>transaction_date</th>\n",
       "      <th>owner</th>\n",
       "      <th>ticker</th>\n",
       "      <th>asset_description</th>\n",
       "      <th>type</th>\n",
       "      <th>amount</th>\n",
       "      <th>representative</th>\n",
       "      <th>district</th>\n",
       "      <th>ptr_link</th>\n",
       "      <th>cap_gains_over_200_usd</th>\n",
       "      <th>state</th>\n",
       "      <th>transaction_month</th>\n",
       "      <th>transaction_year</th>\n",
       "    </tr>\n",
       "  </thead>\n",
       "  <tbody>\n",
       "    <tr>\n",
       "      <th>0</th>\n",
       "      <td>2021</td>\n",
       "      <td>10/04/2021</td>\n",
       "      <td>2021-09-27</td>\n",
       "      <td>joint</td>\n",
       "      <td>BP</td>\n",
       "      <td>BP plc</td>\n",
       "      <td>purchase</td>\n",
       "      <td>$1,001 - $15,000</td>\n",
       "      <td>Hon. Virginia Foxx</td>\n",
       "      <td>NC05</td>\n",
       "      <td>https://disclosures-clerk.house.gov/public_dis...</td>\n",
       "      <td>False</td>\n",
       "      <td>NC</td>\n",
       "      <td>09</td>\n",
       "      <td>2021</td>\n",
       "    </tr>\n",
       "    <tr>\n",
       "      <th>1</th>\n",
       "      <td>2021</td>\n",
       "      <td>10/04/2021</td>\n",
       "      <td>2021-09-13</td>\n",
       "      <td>joint</td>\n",
       "      <td>XOM</td>\n",
       "      <td>Exxon Mobil Corporation</td>\n",
       "      <td>purchase</td>\n",
       "      <td>$1,001 - $15,000</td>\n",
       "      <td>Hon. Virginia Foxx</td>\n",
       "      <td>NC05</td>\n",
       "      <td>https://disclosures-clerk.house.gov/public_dis...</td>\n",
       "      <td>False</td>\n",
       "      <td>NC</td>\n",
       "      <td>09</td>\n",
       "      <td>2021</td>\n",
       "    </tr>\n",
       "    <tr>\n",
       "      <th>2</th>\n",
       "      <td>2021</td>\n",
       "      <td>10/04/2021</td>\n",
       "      <td>2021-09-10</td>\n",
       "      <td>joint</td>\n",
       "      <td>ILPT</td>\n",
       "      <td>Industrial Logistics Properties Trust - Common...</td>\n",
       "      <td>purchase</td>\n",
       "      <td>$15,001 - $50,000</td>\n",
       "      <td>Hon. Virginia Foxx</td>\n",
       "      <td>NC05</td>\n",
       "      <td>https://disclosures-clerk.house.gov/public_dis...</td>\n",
       "      <td>False</td>\n",
       "      <td>NC</td>\n",
       "      <td>09</td>\n",
       "      <td>2021</td>\n",
       "    </tr>\n",
       "    <tr>\n",
       "      <th>3</th>\n",
       "      <td>2021</td>\n",
       "      <td>10/04/2021</td>\n",
       "      <td>2021-09-28</td>\n",
       "      <td>joint</td>\n",
       "      <td>PM</td>\n",
       "      <td>Phillip Morris International Inc</td>\n",
       "      <td>purchase</td>\n",
       "      <td>$15,001 - $50,000</td>\n",
       "      <td>Hon. Virginia Foxx</td>\n",
       "      <td>NC05</td>\n",
       "      <td>https://disclosures-clerk.house.gov/public_dis...</td>\n",
       "      <td>False</td>\n",
       "      <td>NC</td>\n",
       "      <td>09</td>\n",
       "      <td>2021</td>\n",
       "    </tr>\n",
       "    <tr>\n",
       "      <th>4</th>\n",
       "      <td>2021</td>\n",
       "      <td>10/04/2021</td>\n",
       "      <td>2021-09-17</td>\n",
       "      <td>self</td>\n",
       "      <td>BLK</td>\n",
       "      <td>BlackRock Inc</td>\n",
       "      <td>sale_partial</td>\n",
       "      <td>$1,001 - $15,000</td>\n",
       "      <td>Hon. Alan S. Lowenthal</td>\n",
       "      <td>CA47</td>\n",
       "      <td>https://disclosures-clerk.house.gov/public_dis...</td>\n",
       "      <td>False</td>\n",
       "      <td>CA</td>\n",
       "      <td>09</td>\n",
       "      <td>2021</td>\n",
       "    </tr>\n",
       "  </tbody>\n",
       "</table>\n",
       "</div>"
      ],
      "text/plain": [
       "   disclosure_year disclosure_date transaction_date  owner ticker  \\\n",
       "0             2021      10/04/2021       2021-09-27  joint     BP   \n",
       "1             2021      10/04/2021       2021-09-13  joint    XOM   \n",
       "2             2021      10/04/2021       2021-09-10  joint   ILPT   \n",
       "3             2021      10/04/2021       2021-09-28  joint     PM   \n",
       "4             2021      10/04/2021       2021-09-17   self    BLK   \n",
       "\n",
       "                                   asset_description          type  \\\n",
       "0                                             BP plc      purchase   \n",
       "1                            Exxon Mobil Corporation      purchase   \n",
       "2  Industrial Logistics Properties Trust - Common...      purchase   \n",
       "3                   Phillip Morris International Inc      purchase   \n",
       "4                                      BlackRock Inc  sale_partial   \n",
       "\n",
       "              amount          representative district  \\\n",
       "0   $1,001 - $15,000      Hon. Virginia Foxx     NC05   \n",
       "1   $1,001 - $15,000      Hon. Virginia Foxx     NC05   \n",
       "2  $15,001 - $50,000      Hon. Virginia Foxx     NC05   \n",
       "3  $15,001 - $50,000      Hon. Virginia Foxx     NC05   \n",
       "4   $1,001 - $15,000  Hon. Alan S. Lowenthal     CA47   \n",
       "\n",
       "                                            ptr_link  cap_gains_over_200_usd  \\\n",
       "0  https://disclosures-clerk.house.gov/public_dis...                   False   \n",
       "1  https://disclosures-clerk.house.gov/public_dis...                   False   \n",
       "2  https://disclosures-clerk.house.gov/public_dis...                   False   \n",
       "3  https://disclosures-clerk.house.gov/public_dis...                   False   \n",
       "4  https://disclosures-clerk.house.gov/public_dis...                   False   \n",
       "\n",
       "  state transaction_month transaction_year  \n",
       "0    NC                09             2021  \n",
       "1    NC                09             2021  \n",
       "2    NC                09             2021  \n",
       "3    NC                09             2021  \n",
       "4    CA                09             2021  "
      ]
     },
     "execution_count": 141,
     "metadata": {},
     "output_type": "execute_result"
    }
   ],
   "source": [
    "df['state'] = df['district'].str[:2]\n",
    "df['transaction_month'] = df['transaction_date'].str[5:7]\n",
    "df['transaction_year'] = df['transaction_date'].str[0:4]\n",
    "\n",
    "data = df.copy()\n",
    "data.head()"
   ]
  },
  {
   "cell_type": "code",
   "execution_count": 155,
   "metadata": {
    "scrolled": false
   },
   "outputs": [
    {
     "data": {
      "text/plain": [
       "array(['sale_full', 'purchase', 'sale_full', ..., 'purchase', 'sale_full',\n",
       "       'purchase'], dtype=object)"
      ]
     },
     "execution_count": 155,
     "metadata": {},
     "output_type": "execute_result"
    }
   ],
   "source": [
    "# split target feature from training features\n",
    "X_final = data.drop('type', axis=1)\n",
    "# X = data[['owner', 'ticker', 'amount']]\n",
    "y_final = data.type\n",
    "\n",
    "# split data set intro training vs test\n",
    "Xf_train, Xf_test, yf_train, yf_test = train_test_split(X_final, y_final, test_size=0.3) # 70% training and 30% test\n",
    "\n",
    "# ordinal encoding\n",
    "enc = Pipeline(steps=[('ordinal', OrdinalEncoder(handle_unknown='ignore'))])\n",
    "\n",
    "# nominal encoding\n",
    "ohe = Pipeline(steps=[('onehot', OneHotEncoder(handle_unknown='ignore'))])\n",
    "\n",
    "\n",
    "# preprocessor\n",
    "preproc = ColumnTransformer(\n",
    "    transformers = [\n",
    "        ('owner_ohe', ohe, ['owner']),\n",
    "        ('ticker_ohe', ohe, ['ticker']),\n",
    "        ('disclosure_ohe', ohe, ['disclosure_year']),\n",
    "        ('state_ohe', ohe, ['state']),\n",
    "        ('tmonth_ohe', ohe, ['transaction_month']),\n",
    "        ('tyear_ohe', ohe, ['transaction_year']),\n",
    "        ('amount_enc', enc, ['amount'])\n",
    "    ])\n",
    "\n",
    "pl_final = Pipeline(steps=[('preprocessor', preproc), ('classifier', DecisionTreeClassifier())])\n",
    "\n",
    "pl_final.fit(Xf_train, yf_train)\n",
    "preds_final = pl_final.predict(Xf_test)\n",
    "preds_final"
   ]
  },
  {
   "cell_type": "code",
   "execution_count": 170,
   "metadata": {
    "scrolled": false
   },
   "outputs": [
    {
     "data": {
      "text/plain": [
       "GridSearchCV(cv=5,\n",
       "             estimator=Pipeline(steps=[('preprocessor',\n",
       "                                        ColumnTransformer(transformers=[('owner_ohe',\n",
       "                                                                         Pipeline(steps=[('onehot',\n",
       "                                                                                          OneHotEncoder(handle_unknown='ignore'))]),\n",
       "                                                                         ['owner']),\n",
       "                                                                        ('ticker_ohe',\n",
       "                                                                         Pipeline(steps=[('onehot',\n",
       "                                                                                          OneHotEncoder(handle_unknown='ignore'))]),\n",
       "                                                                         ['ticker']),\n",
       "                                                                        ('disclosure_ohe',\n",
       "                                                                         Pipeline(steps=[('onehot',\n",
       "                                                                                          OneHotEncoder(handle_unknown...\n",
       "                                                                         Pipeline(steps=[('onehot',\n",
       "                                                                                          OneHotEncoder(handle_unknown='ignore'))]),\n",
       "                                                                         ['transaction_year']),\n",
       "                                                                        ('amount_enc',\n",
       "                                                                         Pipeline(steps=[('ordinal',\n",
       "                                                                                          OrdinalEncoder(handle_unknown='ignore'))]),\n",
       "                                                                         ['amount'])])),\n",
       "                                       ('classifier',\n",
       "                                        DecisionTreeClassifier())]),\n",
       "             param_grid={'classifier__max_depth': array([  2,  22,  42,  62,  82, 102, 122, 142, 162, 182, 202, 222, 242,\n",
       "       262, 282, 302, 322, 342, 362, 382, 402, 422, 442, 462, 482])})"
      ]
     },
     "execution_count": 170,
     "metadata": {},
     "output_type": "execute_result"
    }
   ],
   "source": [
    "params = {'classifier__max_depth': np.arange(2,500,20)}\n",
    "\n",
    "\n",
    "\n",
    "grids = GridSearchCV(pl_final, param_grid=params, cv=5)\n",
    "grids.fit(Xf_train, yf_train)"
   ]
  },
  {
   "cell_type": "code",
   "execution_count": 172,
   "metadata": {
    "scrolled": true
   },
   "outputs": [
    {
     "data": {
      "text/plain": [
       "{'classifier__max_depth': 202}"
      ]
     },
     "execution_count": 172,
     "metadata": {},
     "output_type": "execute_result"
    }
   ],
   "source": [
    "grids.best_params_"
   ]
  },
  {
   "cell_type": "code",
   "execution_count": 171,
   "metadata": {
    "scrolled": false
   },
   "outputs": [
    {
     "data": {
      "text/plain": [
       "0.6633419205593964"
      ]
     },
     "execution_count": 171,
     "metadata": {},
     "output_type": "execute_result"
    }
   ],
   "source": [
    "grids.best_score_"
   ]
  },
  {
   "cell_type": "markdown",
   "metadata": {},
   "source": [
    "#### Evaluation of Final Model"
   ]
  },
  {
   "cell_type": "code",
   "execution_count": 143,
   "metadata": {},
   "outputs": [
    {
     "data": {
      "text/plain": [
       "0.6661775263317862"
      ]
     },
     "execution_count": 143,
     "metadata": {},
     "output_type": "execute_result"
    }
   ],
   "source": [
    "recall_final = metrics.recall_score(yf_test, preds_final, average='weighted')\n",
    "precision_final = metrics.precision_score(yf_test, preds_final, average='weighted')\n",
    "\n",
    "f1_final = 2 * ((precision_final * recall_final)/(precision_final + recall_final))\n",
    "f1_final"
   ]
  },
  {
   "cell_type": "markdown",
   "metadata": {},
   "source": [
    "### Fairness Evaluation"
   ]
  },
  {
   "cell_type": "code",
   "execution_count": 183,
   "metadata": {},
   "outputs": [
    {
     "data": {
      "text/plain": [
       "0.8"
      ]
     },
     "execution_count": 183,
     "metadata": {},
     "output_type": "execute_result"
    }
   ],
   "source": [
    "# A = data[data['transaction_year'] == '2021']\n",
    "# B = data[data['transaction_year'] == '2020']\n",
    "\n",
    "def test_stat(A, B):\n",
    "    def helper(data):\n",
    "        X_final = data.drop('type', axis=1)\n",
    "        # X = data[['owner', 'ticker', 'amount']]\n",
    "        y_final = data.type\n",
    "\n",
    "        # split data set intro training vs test, 70% training and 30% test\n",
    "        Xf_train, Xf_test, yf_train, yf_test = train_test_split(X_final, y_final, test_size=0.3)\n",
    "\n",
    "        # ordinal encoding\n",
    "        enc = Pipeline(steps=[('ordinal', OrdinalEncoder(handle_unknown='ignore'))])\n",
    "\n",
    "        # nominal encoding\n",
    "        ohe = Pipeline(steps=[('onehot', OneHotEncoder(handle_unknown='ignore'))])\n",
    "\n",
    "\n",
    "        # preprocessor\n",
    "        preproc = ColumnTransformer(\n",
    "            transformers = [\n",
    "                ('owner_ohe', ohe, ['owner']),\n",
    "                ('ticker_ohe', ohe, ['ticker']),\n",
    "                ('disclosure_ohe', ohe, ['disclosure_year']),\n",
    "                ('state_ohe', ohe, ['state']),\n",
    "                ('tmonth_ohe', ohe, ['transaction_month']),\n",
    "                ('tyear_ohe', ohe, ['transaction_year']),\n",
    "                ('amount_enc', enc, ['amount'])\n",
    "            ])\n",
    "\n",
    "        pl_final = Pipeline(steps=[('preprocessor', preproc), ('classifier', DecisionTreeClassifier())])\n",
    "\n",
    "        pl_final.fit(Xf_train, yf_train)\n",
    "        preds_final = pl_final.predict(Xf_test)\n",
    "    \n",
    "        return metrics.accuracy_score(yf_test, preds_final)\n",
    "    return helper(B) - helper(A)\n",
    "\n",
    "\n",
    "\n",
    "def simulate_null(data):\n",
    "    # change A and B\n",
    "    df = data.copy()\n",
    "    shuffled_data = df['transaction_year'].sample(replace=False, frac=1).reset_index(drop=True)\n",
    "    df['transaction_year'] = shuffled_data\n",
    "    A = df[df['transaction_year'] == '2021']\n",
    "    B = df[df['transaction_year'] == '2020']\n",
    "    return test_stat(A, B)\n",
    "\n",
    "\n",
    "def pval(data):\n",
    "    permutations = []\n",
    "    n_repititions = 10\n",
    "    df = data.copy()\n",
    "    \n",
    "    A = df[df['transaction_year'] == '2021']\n",
    "    B = df[df['transaction_year'] == '2020']\n",
    "    \n",
    "    obs = test_stat(A, B)\n",
    "\n",
    "    for i in range(n_repititions):\n",
    "        permutations.append(simulate_null(df))\n",
    "\n",
    "    return pd.Series(permutations > obs).sum() / len(permutations)\n",
    "\n",
    "pval(data.copy())\n"
   ]
  }
 ],
 "metadata": {
  "kernelspec": {
   "display_name": "Python 3",
   "language": "python",
   "name": "python3"
  },
  "language_info": {
   "codemirror_mode": {
    "name": "ipython",
    "version": 3
   },
   "file_extension": ".py",
   "mimetype": "text/x-python",
   "name": "python",
   "nbconvert_exporter": "python",
   "pygments_lexer": "ipython3",
   "version": "3.8.8"
  }
 },
 "nbformat": 4,
 "nbformat_minor": 2
}
